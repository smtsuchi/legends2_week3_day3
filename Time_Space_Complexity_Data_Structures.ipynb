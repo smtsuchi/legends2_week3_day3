{
 "cells": [
  {
   "cell_type": "markdown",
   "metadata": {},
   "source": [
    "# Time/Space Complexity - Intro to Data Structures (User Defined)\n",
    "\n",
    "### Topics to discuss today:\n",
    "\n",
    "<ul>\n",
    "    <li>Time and Space Complexity - What is it/How do we measure it</li>\n",
    "    <li>Asymptotic Analysis</li>\n",
    "    <li><strong>Data Structures</strong></li>\n",
    "    <li>Some of the popular sorting algorithms</li>\n",
    "</ul>\n",
    "\n",
    "### Data Structures to discuss:\n",
    "- Arrays\n",
    "- Stacks\n",
    "- Queues\n",
    "- Linked Lists\n",
    "    - Singly Linked Lists\n",
    "    - Traversing A Linked List\n",
    "    - Finding a node in a linked list\n",
    "    - Adding to a linked list\n",
    "- Binary Search Trees\n",
    "    - Construction\n",
    "    - Traversal\n"
   ]
  },
  {
   "cell_type": "markdown",
   "metadata": {},
   "source": [
    "## Time and Space Complexity\n",
    "\n",
    "#### What is it?\n",
    "\n",
    "Time and space complexity is the measure of how much time a given action(function) will take to solve a problem. In the same fashion, we determine how much a given data structure will need in terms of memory allocation. A problem can have multiple solutions and finding the optimal solution for the problem needs to be analyzed in time and space.\n",
    "\n",
    "#### How do we measure Time and Space Complexity?\n",
    "\n",
    "In order to measure time and space complexity we use Asymptotic analysis. The reason for this is because we need a way to measure different algorithms (functions) based on the size of their inputs in a mathmatical way. For example, we could have a function that is computed as f(n) and another that is g(n^2). All things around the function staying constant, the only thing that changes is the size of the input. Below is the chart that shows the different Asymptotic analysis formats. "
   ]
  },
  {
   "cell_type": "markdown",
   "metadata": {},
   "source": [
    "<table style=\"text-align:center;\" class=\"table table-bordered\">\n",
    "<tbody><tr>\n",
    "<td>constant</td>\n",
    "<td>−</td>\n",
    "<td>Ο(1)</td>\n",
    "</tr>\n",
    "<tr>\n",
    "<td>logarithmic</td>\n",
    "<td>−</td>\n",
    "<td>Ο(log n)</td>\n",
    "</tr>\n",
    "<tr>\n",
    "<td>linear</td>\n",
    "<td>−</td>\n",
    "<td>Ο(n)</td>\n",
    "</tr>\n",
    "<tr>\n",
    "<td>Linear Logarithmic</td>\n",
    "<td>−</td>\n",
    "<td>Ο(n log n)</td>\n",
    "</tr>\n",
    "<tr>\n",
    "<td>quadratic</td>\n",
    "<td>−</td>\n",
    "<td>Ο(n<sup>2</sup>)</td>\n",
    "</tr>\n",
    "<tr>\n",
    "<td>cubic</td>\n",
    "<td>−</td>\n",
    "<td>Ο(n<sup>3</sup>)</td>\n",
    "</tr>\n",
    "<tr>\n",
    "<td>polynomial</td>\n",
    "<td>−</td>\n",
    "<td>n<sup>Ο(1)</sup></td>\n",
    "</tr>\n",
    "<tr>\n",
    "<td>exponential</td>\n",
    "<td>−</td>\n",
    "<td>2<sup>Ο(n)</sup></td>\n",
    "</tr>\n",
    "</tbody></table>"
   ]
  },
  {
   "cell_type": "markdown",
   "metadata": {},
   "source": [
    "## Arrays"
   ]
  },
  {
   "cell_type": "markdown",
   "metadata": {},
   "source": [
    "In python we benefit from the dynamic array which means the block of memory will expand as needed for the given input to the array. In traditional arrays (depending on the type of operating system) we will usually store our inputs in 4 or 8 consecutive blocks of memory. Below is a diagram of how that looks under the hood:\n",
    "\n",
    "<img src=\"http://www.mathcs.emory.edu/~cheung/Courses/170/Syllabus/09/FIGS/array02x.gif\" style=\"height:250px; width:350px;\">"
   ]
  },
  {
   "cell_type": "markdown",
   "metadata": {},
   "source": [
    "## Which in python looks like this:"
   ]
  },
  {
   "cell_type": "code",
   "execution_count": null,
   "metadata": {},
   "outputs": [],
   "source": []
  },
  {
   "cell_type": "markdown",
   "metadata": {},
   "source": [
    "### Let's take a look at some of the time and space analysis of arrays"
   ]
  },
  {
   "cell_type": "code",
   "execution_count": null,
   "metadata": {},
   "outputs": [],
   "source": []
  },
  {
   "cell_type": "markdown",
   "metadata": {},
   "source": [
    "## Stacks and Queues (Review)\n",
    "\n",
    "** Stacks ** as the name suggests is a data structure that allows for data to follow the Last In First Out priciple(LIFO). Think of a stack of pancakes for example. To get the first pancake you would  start with the top and go down.\n",
    "\n",
    "##### Searching through a stack will be Linear Time O(n) - Constant Space O(1)\n",
    "##### Selecting the last item will be done in Constant Time O(1) - Constant Space O(1)\n",
    "##### Adding to the stack should take Constant Time O(1) - Constant Space O(1)\n",
    "\n",
    "** Queues ** are similar but in this case follow the First In First Out principle(FIFO). Think of this as a line in a black friday sale. The first person camped out for the big screen tv is the first to get it.\n",
    "\n",
    "##### Searching through a queue will be Linear Time O(n) - Constant Space O(1)\n",
    "##### Selecting the first item will be done in Constant Time O(1) - Constant Space O(1)\n",
    "##### Adding to the queue should take Constant Time O(1) - Constant Space O(1)"
   ]
  },
  {
   "cell_type": "code",
   "execution_count": 6,
   "metadata": {},
   "outputs": [
    {
     "name": "stdout",
     "output_type": "stream",
     "text": [
      "[10, 20, 30]\n",
      "30\n",
      "[10, 20]\n",
      "10\n",
      "20\n",
      "=================\n",
      "['Ash', 'Brock', 'Misty']\n",
      "Ash\n",
      "['Brock', 'Misty']\n"
     ]
    }
   ],
   "source": [
    "stack = []\n",
    "\n",
    "stack.append(10)\n",
    "stack.append(20)\n",
    "stack.append(30)\n",
    "\n",
    "print(stack)\n",
    "\n",
    "last_item = stack.pop()\n",
    "print(last_item)\n",
    "print(stack)\n",
    "\n",
    "# searcg through a stack - Linear Time O(n) and Constant Space O(1)\n",
    "for item in stack:\n",
    "    print(item)\n",
    "\n",
    "print('=================')\n",
    "\n",
    "queue = []\n",
    "queue.append('Ash')\n",
    "queue.append('Brock')\n",
    "queue.append('Misty')\n",
    "\n",
    "print(queue)\n",
    "\n",
    "first_person = queue.pop(0)\n",
    "print(first_person)\n",
    "print(queue)\n",
    "\n",
    "\n"
   ]
  },
  {
   "cell_type": "markdown",
   "metadata": {},
   "source": [
    "## Linked List (Data Structure)\n",
    "\n",
    "A linked list is created by using the node class. We create a Node object and create another class to use this node object. We pass the appropriate values thorugh the node object to point the to the next data elements.\n",
    "\n",
    "There are some advantages and disadvantages with this data structure. **Advantages** Linked Lists can save memory because they can be flexibile with memory management which saves memory. **Disadvantages** Finding or adding to the list requires traversing the entire list."
   ]
  },
  {
   "cell_type": "code",
   "execution_count": 11,
   "metadata": {},
   "outputs": [
    {
     "name": "stdout",
     "output_type": "stream",
     "text": [
      "Monday\n",
      "Tuesday\n",
      "Wednesday\n"
     ]
    }
   ],
   "source": [
    "# SIMPLE VERSION\n",
    "class LinkedListNode():\n",
    "    def __init__(self, value):\n",
    "        self.value = value\n",
    "        self.next = None\n",
    "    \n",
    "    def traverseList(self):\n",
    "        node = self\n",
    "        while node != None:\n",
    "            print(node.value)\n",
    "            node = node.next\n",
    "\n",
    "node1 = LinkedListNode(\"Monday\")\n",
    "node2 = LinkedListNode(\"Tuesday\")\n",
    "node3 = LinkedListNode(\"Wednesday\")\n",
    "\n",
    "node1.next = node2\n",
    "node2.next = node3\n",
    "\n",
    "node1.traverseList()"
   ]
  },
  {
   "cell_type": "code",
   "execution_count": 1,
   "metadata": {},
   "outputs": [
    {
     "name": "stdout",
     "output_type": "stream",
     "text": [
      "Monday\n",
      "Tuesday\n",
      "Wednesday\n",
      "Thursday\n",
      "Friday\n"
     ]
    }
   ],
   "source": [
    "#  A Complete Implementation of a LinkedList\n",
    "\n",
    "# 2 main components for this implementation - a Node Class and a Linked List Class\n",
    "\n",
    "class Node():\n",
    "    def __init__(self, value):\n",
    "        self.value = value\n",
    "        self.next = None\n",
    "\n",
    "class LinkedList():\n",
    "    def __init__(self):\n",
    "        self.head = None\n",
    "\n",
    "    def prepend(self, new_value):\n",
    "        new_node = Node(new_value)\n",
    "        new_node.next = self.head\n",
    "        self.head = new_node\n",
    "\n",
    "    def insertAfter(self, prev_node, new_value):\n",
    "        # check if the prev node exists\n",
    "        if prev_node is None:\n",
    "            print('The given node does not exist')\n",
    "            return\n",
    "        # if the node exists, create the new one to insert\n",
    "        new_node = Node(new_value)\n",
    "        new_node.next = prev_node.next\n",
    "        prev_node.next = new_node\n",
    "    \n",
    "    def append(self, new_value):\n",
    "        new_node = Node(new_value)\n",
    "\n",
    "        # check if linked list is empty\n",
    "        # if it is, make THIS new node the head (beginning of list)\n",
    "        if self.head is None:\n",
    "            self.head = new_node\n",
    "            return\n",
    "        \n",
    "        # BUT if the list is not empty.. traverse to the end\n",
    "        # then add the new node to the end of the list\n",
    "\n",
    "        current = self.head\n",
    "\n",
    "        while current.next:\n",
    "            current = current.next\n",
    "        \n",
    "        current.next = new_node\n",
    "\n",
    "    def traverse(self):\n",
    "        temp = self.head\n",
    "        while temp:\n",
    "            print(temp.value)\n",
    "            temp = temp.next\n",
    "\n",
    "weekdays = LinkedList()\n",
    "\n",
    "# insert a new day into the list\n",
    "weekdays.append(\"Tuesday\")\n",
    "weekdays.append(\"Wednesday\")\n",
    "weekdays.append(\"Friday\")\n",
    "weekdays.prepend(\"Monday\")\n",
    "weekdays.insertAfter(weekdays.head.next.next, \"Thursday\")\n",
    "\n",
    "weekdays.traverse()\n",
    "\n"
   ]
  },
  {
   "cell_type": "markdown",
   "metadata": {},
   "source": [
    "## Binary Search Trees"
   ]
  },
  {
   "cell_type": "code",
   "execution_count": 17,
   "metadata": {},
   "outputs": [],
   "source": [
    "class BST():\n",
    "    def __init__(self, value):\n",
    "        self.value = value\n",
    "        self.left = None\n",
    "        self.right = None\n",
    "    \n",
    "    def insert(self, new_value):\n",
    "        new_node = BST(new_value)\n",
    "        if new_value < self.value:\n",
    "            if self.left == None:\n",
    "                self.left = new_node\n",
    "            else:\n",
    "                self.left.insert(new_value)\n",
    "        else:\n",
    "            if self.right == None:\n",
    "                self.right = new_node\n",
    "            else:\n",
    "                self.right.insert(new_value)\n",
    "\n",
    "    def contains(self, search_value):\n",
    "        if search_value < self.value:\n",
    "            if self.left is None:\n",
    "                return False\n",
    "            else:\n",
    "                self.left.contains(search_value)\n",
    "        elif search_value > self.value:\n",
    "            if self.right is None:\n",
    "                return False\n",
    "            else:\n",
    "                self.right.contains(search_value)\n",
    "        else:\n",
    "            return True\n",
    "    \n",
    "    def getMin(self):\n",
    "        if self.left == None:\n",
    "            return self.value\n",
    "        else:\n",
    "            return self.left.getMin()\n",
    "\n",
    "    def getMax(self):\n",
    "        if self.right == None:\n",
    "            return self.value\n",
    "        else:\n",
    "            return self.right.getMax()\n",
    "\n",
    "    def remove(self, r_value, parent=None):\n",
    "        if r_value < self.value:\n",
    "            if self.left is not None:\n",
    "                self.left.remove(r_value, self)\n",
    "        elif r_value > self.value:\n",
    "            if self.right is not None:\n",
    "                self.right.remove(r_value, self)\n",
    "        else:\n",
    "            if self.left is not None and self.right is not None:\n",
    "                self.value = self.right.getMin()\n",
    "                self.right.remove(self.value, self)\n",
    "            elif parent is None:\n",
    "                if self.left is not None:\n",
    "                    self.value = self.left.value\n",
    "                    self.right = self.left.right\n",
    "                    self.left = self.left.left\n",
    "                elif self.right is not None:\n",
    "                    self.value = self.right.value\n",
    "                    self.right = self.right.right\n",
    "                    self.left = self.right.left\n",
    "                else:\n",
    "                    self.value = None\n",
    "            elif parent.left == self:\n",
    "                parent.left = self.left if self.left is not None else self.right\n",
    "            elif parent.right == self:\n",
    "                parent.right = self.left if self.left is not None else self.right\n",
    "\n",
    "\n",
    "\n",
    "bst = BST(39)\n",
    "bst.insert(40)\n",
    "bst.insert(50)\n",
    "bst.insert(22)\n",
    "bst.insert(21)\n",
    "bst.insert(23)\n",
    "\n",
    "bst.getMin()\n",
    "bst.getMax()\n",
    "bst.remove(22)\n",
    "\n",
    "bst.contains(21)\n",
    "\n"
   ]
  },
  {
   "cell_type": "markdown",
   "metadata": {},
   "source": [
    "# Homework"
   ]
  },
  {
   "cell_type": "markdown",
   "metadata": {},
   "source": [
    "#### Problem 1: Linked Lists\n",
    "\n",
    "Using the above examples as a guide, create your own interpretation of the a Linked List class. You can not use the code above exactly, but again it can be used as a guide. This problem requires you to think about how a linked list works and create one using your own logic.\n",
    "\n",
    "*Remember* A Linked List is a list of Nodes that point to the next node in the chain. The first Node starts out as Empty(None) and each node after points to the next.\n",
    "\n",
    "Your Linked List should have a traverse method and have the ability to add a new node"
   ]
  },
  {
   "cell_type": "code",
   "execution_count": null,
   "metadata": {},
   "outputs": [],
   "source": [
    "print('answer for question1')"
   ]
  },
  {
   "cell_type": "markdown",
   "metadata": {},
   "source": [
    "#### Problem 2: Binary Search Tree\n",
    "\n",
    "Using the above examples as a guide, create your own interpretation of the a Binary Search Tree class. You can not use the code above exactly, but again it can be used as a guide. This problem requires you to think about how a Binary Search Tree works and create one using your own logic.\n",
    "\n",
    "*Remember* Binary Search Trees start with a head node and each node to the left of that will be smaller, each node to the right of it will be greater. The far left node should be the lowest number(if one exists) that is available. The far right node (if one exists) should be the greatest number"
   ]
  },
  {
   "cell_type": "code",
   "execution_count": null,
   "metadata": {},
   "outputs": [],
   "source": [
    "print('answer for question2')"
   ]
  }
 ],
 "metadata": {
  "kernelspec": {
   "display_name": "Python 3",
   "language": "python",
   "name": "python3"
  },
  "language_info": {
   "codemirror_mode": {
    "name": "ipython",
    "version": 3
   },
   "file_extension": ".py",
   "mimetype": "text/x-python",
   "name": "python",
   "nbconvert_exporter": "python",
   "pygments_lexer": "ipython3",
   "version": "3.9.5"
  }
 },
 "nbformat": 4,
 "nbformat_minor": 2
}
